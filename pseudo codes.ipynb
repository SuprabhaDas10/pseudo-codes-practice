{
 "cells": [
  {
   "attachments": {},
   "cell_type": "markdown",
   "id": "84885435-bc2c-4ba5-ba0c-58c39a629f26",
   "metadata": {},
   "source": [
    "# Pseudo codes:\n",
    "\n",
    " * Rule 1:The value of variables at right hand side always copied to left hand using assignment operator.\n"
   ]
  },
  {
   "cell_type": "code",
   "execution_count": 5,
   "id": "2e269965-c421-4f8c-896e-13e6a4cf4256",
   "metadata": {},
   "outputs": [
    {
     "name": "stdout",
     "output_type": "stream",
     "text": [
      "2 2\n"
     ]
    }
   ],
   "source": [
    "# X = Y\n",
    "a = 2\n",
    "b = a\n",
    "print(a,b)"
   ]
  },
  {
   "cell_type": "code",
   "execution_count": 26,
   "id": "c305a373-1e10-4f4a-821b-987548e57b71",
   "metadata": {},
   "outputs": [
    {
     "name": "stdout",
     "output_type": "stream",
     "text": [
      "5 6 11\n"
     ]
    }
   ],
   "source": [
    "a = 5\n",
    "b = 6 \n",
    "c = a + b\n",
    "print(a,b,c)"
   ]
  },
  {
   "cell_type": "code",
   "execution_count": 31,
   "id": "c59e3158-f6f5-4952-b8c3-1cc75b1c5f7d",
   "metadata": {},
   "outputs": [
    {
     "name": "stdout",
     "output_type": "stream",
     "text": [
      "3 5\n"
     ]
    }
   ],
   "source": [
    "# Swap 2 variable using 3rd variable\n",
    "a = 5\n",
    "b = 3\n",
    "c = a\n",
    "a = b\n",
    "b = c\n",
    "print(a,b)"
   ]
  },
  {
   "cell_type": "code",
   "execution_count": 33,
   "id": "ccc6e4ad-b043-4074-9256-5b70a26b69b4",
   "metadata": {},
   "outputs": [
    {
     "name": "stdout",
     "output_type": "stream",
     "text": [
      "15\n"
     ]
    }
   ],
   "source": [
    "x = 5\n",
    "y = 10 \n",
    "p = x + 3\n",
    "q = y - 3\n",
    "z = p + q\n",
    "print(z)"
   ]
  },
  {
   "cell_type": "code",
   "execution_count": 39,
   "id": "384ec3a2-6e69-4bba-a1dd-0081100effd8",
   "metadata": {},
   "outputs": [
    {
     "name": "stdout",
     "output_type": "stream",
     "text": [
      "20\n"
     ]
    }
   ],
   "source": [
    "a = 5\n",
    "b = 3\n",
    "b = c #error\n",
    "c = a + b\n",
    "print(c)"
   ]
  },
  {
   "cell_type": "code",
   "execution_count": 41,
   "id": "5183e9db-aac4-48f0-a9b1-aa41ae4bcc0c",
   "metadata": {},
   "outputs": [
    {
     "name": "stdout",
     "output_type": "stream",
     "text": [
      "6 5\n"
     ]
    }
   ],
   "source": [
    "# Swap value without using 3rd variable.\n",
    "\n",
    "a = 5\n",
    "b = 6\n",
    "a = a + b\n",
    "b = a - b\n",
    "a = a - b\n",
    "print(a,b)"
   ]
  },
  {
   "cell_type": "code",
   "execution_count": 45,
   "id": "b953e46e-cf39-460f-85ef-4b2d1efcfc0c",
   "metadata": {},
   "outputs": [
    {
     "name": "stdout",
     "output_type": "stream",
     "text": [
      "7 5 6\n"
     ]
    }
   ],
   "source": [
    "a = 5\n",
    "b = 6 \n",
    "c = 7\n",
    "a = a + b + c\n",
    "b = a - b - c\n",
    "c = a - b - c\n",
    "a = a - b - c\n",
    "print(a,b,c)"
   ]
  },
  {
   "cell_type": "code",
   "execution_count": 49,
   "id": "db432a82-a67f-413b-9eef-3a12ae1a0466",
   "metadata": {},
   "outputs": [
    {
     "name": "stdout",
     "output_type": "stream",
     "text": [
      "2 3 4 5 -1 14 6.5\n"
     ]
    }
   ],
   "source": [
    "a = 2\n",
    "b = 3\n",
    "c = 4\n",
    "d = a + b\n",
    "e = b - 4\n",
    "f = c + 2 * 5\n",
    "g = a * b / c + d\n",
    "print(a,b,c,d,e,f,g)"
   ]
  },
  {
   "cell_type": "markdown",
   "id": "df7ac65e-6ba5-43bd-8e9a-3711039635ca",
   "metadata": {},
   "source": [
    "* Rule 2: ++x or --x are pre-increment/decrement in these cases,we first need to increment/decrements value by one and then assign to LHS."
   ]
  },
  {
   "cell_type": "markdown",
   "id": "a0f5b05e-d2eb-4f10-baae-ab3c5a5aa232",
   "metadata": {},
   "source": [
    "* x++ or x-- are post-increment/decrement in these cases,we first assign value to LHS and then do increment/drecrement."
   ]
  },
  {
   "cell_type": "code",
   "execution_count": 63,
   "id": "21819444-d6dd-4152-8683-c916fc98d247",
   "metadata": {},
   "outputs": [
    {
     "name": "stdout",
     "output_type": "stream",
     "text": [
      "5 5\n"
     ]
    }
   ],
   "source": [
    "a = 5\n",
    "b = ++a # python me '++a' ka koi effect ni hota h\n",
    "print(a,b)"
   ]
  },
  {
   "cell_type": "code",
   "execution_count": 66,
   "id": "15b2918c-6d64-40da-a30f-637e6777a2e6",
   "metadata": {},
   "outputs": [
    {
     "ename": "SyntaxError",
     "evalue": "invalid syntax (3614652556.py, line 2)",
     "output_type": "error",
     "traceback": [
      "\u001b[1;36m  Cell \u001b[1;32mIn[66], line 2\u001b[1;36m\u001b[0m\n\u001b[1;33m    b = a++ # python me post-increment allow ni h\u001b[0m\n\u001b[1;37m            ^\u001b[0m\n\u001b[1;31mSyntaxError\u001b[0m\u001b[1;31m:\u001b[0m invalid syntax\n"
     ]
    }
   ],
   "source": [
    "a = 5\n",
    "b = a++ # python me post-increment allow ni h \n",
    "print(a,b)"
   ]
  },
  {
   "cell_type": "code",
   "execution_count": 68,
   "id": "6384c8cb",
   "metadata": {},
   "outputs": [
    {
     "name": "stdout",
     "output_type": "stream",
     "text": [
      "5 5\n"
     ]
    }
   ],
   "source": [
    "a = 5\n",
    "b = --a # python me '++a' ka koi effect ni hota h\n",
    "print(a,b)\n"
   ]
  },
  {
   "cell_type": "code",
   "execution_count": 70,
   "id": "4e0325c3-2e25-4d75-ae59-62691aa4e5ea",
   "metadata": {},
   "outputs": [
    {
     "ename": "SyntaxError",
     "evalue": "invalid syntax (1700231513.py, line 2)",
     "output_type": "error",
     "traceback": [
      "\u001b[1;36m  Cell \u001b[1;32mIn[70], line 2\u001b[1;36m\u001b[0m\n\u001b[1;33m    b = a-- # python me post-increment allow ni h\u001b[0m\n\u001b[1;37m            ^\u001b[0m\n\u001b[1;31mSyntaxError\u001b[0m\u001b[1;31m:\u001b[0m invalid syntax\n"
     ]
    }
   ],
   "source": [
    "a = 5\n",
    "b = a-- # python me post-increment allow ni h \n",
    "print(a,b)"
   ]
  },
  {
   "cell_type": "code",
   "execution_count": 76,
   "id": "6b7a4899",
   "metadata": {},
   "outputs": [
    {
     "ename": "SyntaxError",
     "evalue": "invalid syntax (1738068661.py, line 3)",
     "output_type": "error",
     "traceback": [
      "\u001b[1;36m  Cell \u001b[1;32mIn[76], line 3\u001b[1;36m\u001b[0m\n\u001b[1;33m    c = a++\u001b[0m\n\u001b[1;37m           ^\u001b[0m\n\u001b[1;31mSyntaxError\u001b[0m\u001b[1;31m:\u001b[0m invalid syntax\n"
     ]
    }
   ],
   "source": [
    "a = 5\n",
    "b = a-1\n",
    "c = a++ # python me post-increment allow ni h \n",
    "d = --b\n",
    "print(a,b,c,d)"
   ]
  },
  {
   "cell_type": "code",
   "execution_count": 78,
   "id": "dc33529c-bb9b-444d-9d25-771c6fc731b2",
   "metadata": {},
   "outputs": [
    {
     "ename": "SyntaxError",
     "evalue": "invalid syntax (2907871246.py, line 4)",
     "output_type": "error",
     "traceback": [
      "\u001b[1;36m  Cell \u001b[1;32mIn[78], line 4\u001b[1;36m\u001b[0m\n\u001b[1;33m    d = a++\u001b[0m\n\u001b[1;37m           ^\u001b[0m\n\u001b[1;31mSyntaxError\u001b[0m\u001b[1;31m:\u001b[0m invalid syntax\n"
     ]
    }
   ],
   "source": [
    "a = 5\n",
    "b = 6\n",
    "c = 7\n",
    "d = a++ # python me post-increment allow ni h \n",
    "e = --b\n",
    "f = ++e\n",
    "print(a,b,c,d,e,f)"
   ]
  },
  {
   "cell_type": "code",
   "execution_count": 80,
   "id": "b88e45df-9d79-4bb9-9d73-ca2d0a323e2e",
   "metadata": {},
   "outputs": [
    {
     "ename": "SyntaxError",
     "evalue": "invalid syntax (4118115349.py, line 4)",
     "output_type": "error",
     "traceback": [
      "\u001b[1;36m  Cell \u001b[1;32mIn[80], line 4\u001b[1;36m\u001b[0m\n\u001b[1;33m    print(c++)\u001b[0m\n\u001b[1;37m             ^\u001b[0m\n\u001b[1;31mSyntaxError\u001b[0m\u001b[1;31m:\u001b[0m invalid syntax\n"
     ]
    }
   ],
   "source": [
    "a = 5\n",
    "b = 6\n",
    "c = ++a\n",
    "print(c++) # python me post-increment allow ni h\n",
    "d = c-2\n",
    "print(++d)\n",
    "print(a,b,c,d)"
   ]
  },
  {
   "cell_type": "markdown",
   "id": "d3122946-4382-4c52-8f89-af5949b05447",
   "metadata": {},
   "source": [
    "* Rule 3: Bitwise operators"
   ]
  },
  {
   "cell_type": "markdown",
   "id": "32d967be-990b-4cbd-b821-b3b5d52374ba",
   "metadata": {},
   "source": [
    "& is called bitwise and operator and it gives 1 only when both bits are 1."
   ]
  },
  {
   "cell_type": "markdown",
   "id": "f5c5a6e9-ebbd-45ed-8e2f-92c68085aefb",
   "metadata": {},
   "source": [
    "| is called bitwise or operator and it gives 1 when either one of the bit is 1 or both bits are 1 , it gives 0 when both bits are 0."
   ]
  },
  {
   "cell_type": "markdown",
   "id": "25b2b8b5-25eb-4957-b1c8-c344215e0ab7",
   "metadata": {},
   "source": [
    "^ is called Ex-or operator and it gives 1 when both bits are different ,but it gives 0 when noth bits are same."
   ]
  },
  {
   "cell_type": "markdown",
   "id": "4c10ed1c-fecc-45b7-801d-ec4a839f120c",
   "metadata": {},
   "source": [
    "* How to write a number in bits."
   ]
  },
  {
   "cell_type": "markdown",
   "id": "55b3f241-054f-4288-baf7-d0a087b495e4",
   "metadata": {},
   "source": [
    "* 2^0,2^1,2^2,2^3,2^4,.......=1,2,4,8,32,64,128,256"
   ]
  },
  {
   "cell_type": "code",
   "execution_count": 88,
   "id": "c28ae385-aa73-443c-bf28-bb232204a11a",
   "metadata": {},
   "outputs": [
    {
     "name": "stdout",
     "output_type": "stream",
     "text": [
      "6\n"
     ]
    }
   ],
   "source": [
    "a = 5\n",
    "b = 3\n",
    "c = a^b\n",
    "print(c)"
   ]
  },
  {
   "cell_type": "markdown",
   "id": "0212d39b-0c0d-4113-a3c0-880b3828686a",
   "metadata": {},
   "source": [
    "~ is called not operator and it gives 1 when bits are 0 and it gives o when bits are 1 (reverse bit)"
   ]
  },
  {
   "cell_type": "code",
   "execution_count": 91,
   "id": "f3176435-de12-445d-a6d6-57a9cc75cdec",
   "metadata": {},
   "outputs": [
    {
     "name": "stdout",
     "output_type": "stream",
     "text": [
      "10 7 13 15 2\n"
     ]
    }
   ],
   "source": [
    "a = 10\n",
    "b = 7\n",
    "c = a ^ b \n",
    "d = c | b | a\n",
    "e = a & b\n",
    "print(a,b,c,d,e)"
   ]
  },
  {
   "cell_type": "code",
   "execution_count": 93,
   "id": "eb0527e4-5546-4773-a254-bcd428d78a2a",
   "metadata": {},
   "outputs": [
    {
     "name": "stdout",
     "output_type": "stream",
     "text": [
      "6 5 3 7 4\n"
     ]
    }
   ],
   "source": [
    "a = 6\n",
    "b = 5\n",
    "c = a ^ b\n",
    "d = c | b | a\n",
    "e = a & b \n",
    "print(a,b,c,d,e)"
   ]
  },
  {
   "cell_type": "code",
   "execution_count": 95,
   "id": "d1e00cd7-7e6c-427a-a8a5-273ec9132f18",
   "metadata": {},
   "outputs": [
    {
     "name": "stdout",
     "output_type": "stream",
     "text": [
      "7\n"
     ]
    }
   ],
   "source": [
    "a = 6\n",
    "b = 5\n",
    "c = 3\n",
    "d = a | b ^ c & a\n",
    "print(d)"
   ]
  },
  {
   "cell_type": "markdown",
   "id": "752bec6d-78a5-48e9-b02c-ddfcd2c4551d",
   "metadata": {},
   "source": [
    "* Some standard results to make our life easy."
   ]
  },
  {
   "cell_type": "markdown",
   "id": "ba9fb317-5f19-4ede-83a3-f4cdbcfd34da",
   "metadata": {},
   "source": [
    "a & 0 = 0 ; a & a = a"
   ]
  },
  {
   "cell_type": "markdown",
   "id": "2a92db07-6fe6-4242-a968-5e4266efca8a",
   "metadata": {},
   "source": [
    "a | 0 = a ; a | a = a "
   ]
  },
  {
   "cell_type": "markdown",
   "id": "2fc20055-30fa-4dcd-ab69-2fd92591a43b",
   "metadata": {},
   "source": [
    "a ^ 0 = a ; a ^ a = 0"
   ]
  },
  {
   "cell_type": "code",
   "execution_count": 110,
   "id": "af1de500-f8e6-4c46-b343-1dbcee98f55e",
   "metadata": {},
   "outputs": [
    {
     "name": "stdout",
     "output_type": "stream",
     "text": [
      "Hello\n"
     ]
    }
   ],
   "source": [
    "a = 5\n",
    "b = 6 \n",
    "c = a | b\n",
    "d = (a & b) + (c - 1)\n",
    "if(d > 0):\n",
    "    print(\"Hello\")\n",
    "else:\n",
    "    print(\"Bye\")\n"
   ]
  },
  {
   "cell_type": "code",
   "execution_count": 112,
   "id": "62516f71-86c8-4990-b035-478bcc1ca850",
   "metadata": {},
   "outputs": [
    {
     "name": "stdout",
     "output_type": "stream",
     "text": [
      "24\n"
     ]
    }
   ],
   "source": [
    "x = 5\n",
    "y = 3\n",
    "z = 2\n",
    "z = x + y \n",
    "x = (z + 4) & z\n",
    "y = (y ^ y) + x\n",
    "print(x + y + z)"
   ]
  },
  {
   "cell_type": "code",
   "execution_count": 122,
   "id": "0e3ea59e-1fdb-4926-86b0-94dc94e2ea8e",
   "metadata": {},
   "outputs": [
    {
     "name": "stdout",
     "output_type": "stream",
     "text": [
      "25\n"
     ]
    }
   ],
   "source": [
    "a = 9\n",
    "b = 5 \n",
    "c = 7\n",
    "if ((a ^ b) + (b & c) > (a + b + c)):\n",
    "    c = (5 + 4) + b\n",
    "c = (5 & 12) + c # yeh line if block ke bahar likhni hogi \n",
    "print(a + b +c)"
   ]
  },
  {
   "cell_type": "code",
   "execution_count": 124,
   "id": "26c9c155-219d-4598-8d27-ee9cd9e3d0f0",
   "metadata": {},
   "outputs": [
    {
     "name": "stdout",
     "output_type": "stream",
     "text": [
      "40\n"
     ]
    }
   ],
   "source": [
    "pp = 18\n",
    "qq = 16\n",
    "rr = 16\n",
    "qq = pp ^ qq\n",
    "pp = (pp & pp) & pp\n",
    "qq = rr ^ qq\n",
    "rr = (12 + 10) ^ qq\n",
    "print(pp + qq + rr)"
   ]
  },
  {
   "cell_type": "code",
   "execution_count": 126,
   "id": "c6e712b7-751b-445d-becb-34b9d911cc91",
   "metadata": {},
   "outputs": [
    {
     "name": "stdout",
     "output_type": "stream",
     "text": [
      "27\n"
     ]
    }
   ],
   "source": [
    "x = 7\n",
    "y = 5\n",
    "z = 4\n",
    "x = z + z\n",
    "y = (2 ^ 5) ^ x\n",
    "print(x + y + z)"
   ]
  },
  {
   "cell_type": "code",
   "execution_count": 128,
   "id": "4c2d72a2-666a-40f9-a9a2-101e8548c5a7",
   "metadata": {},
   "outputs": [
    {
     "name": "stdout",
     "output_type": "stream",
     "text": [
      "39\n"
     ]
    }
   ],
   "source": [
    "pp = 10\n",
    "qq = 7\n",
    "rr = 5\n",
    "if((qq & rr) < (pp - qq)):\n",
    "    qq = (qq + qq) + qq\n",
    "    qq = (qq ^ 3) & rr\n",
    "rr = (qq + rr) + pp\n",
    "print(pp + qq + rr)"
   ]
  },
  {
   "cell_type": "markdown",
   "id": "9610fa83-9258-4acd-9f51-4320d1e14fd6",
   "metadata": {},
   "source": [
    "* Rule 4 : HOW to represent negative numbers in binary"
   ]
  },
  {
   "cell_type": "markdown",
   "id": "09e2e57f-9d95-481f-94ec-fbf85302c862",
   "metadata": {},
   "source": [
    "Negative number are represented as 2's complement in binary form."
   ]
  },
  {
   "cell_type": "code",
   "execution_count": 10,
   "id": "17cc99af-aae2-448d-b17e-104e3b04eae9",
   "metadata": {},
   "outputs": [
    {
     "name": "stdout",
     "output_type": "stream",
     "text": [
      "-6 -5\n"
     ]
    }
   ],
   "source": [
    "a = 5\n",
    "b = ~a\n",
    "c = b + 10\n",
    "print(b,~c)"
   ]
  },
  {
   "cell_type": "code",
   "execution_count": 14,
   "id": "0a1e4cc6-b95c-4c38-ad86-9e5733e33ea1",
   "metadata": {},
   "outputs": [
    {
     "name": "stdout",
     "output_type": "stream",
     "text": [
      "5 0 -1 0\n"
     ]
    }
   ],
   "source": [
    "a = 5\n",
    "b = a ^ a\n",
    "c = ~b\n",
    "d = ~c\n",
    "print(a,b,c,d)"
   ]
  },
  {
   "cell_type": "markdown",
   "id": "1b352a21-7a60-4bf1-aecc-39f2a1cd6f52",
   "metadata": {},
   "source": [
    "* Funtion is a set of instruction which is designed to do a particular task."
   ]
  },
  {
   "cell_type": "markdown",
   "id": "ee4c43e6-4b57-49c9-b402-fa8b26c13ef4",
   "metadata": {},
   "source": [
    "* They are 2 types of funtions"
   ]
  },
  {
   "cell_type": "markdown",
   "id": "f37cb872-43e9-45ec-9bf5-7d61cf49b02f",
   "metadata": {},
   "source": [
    " Predefined funtion : input(),print(),sqrt(),printf(),clscr(),getch()"
   ]
  },
  {
   "cell_type": "markdown",
   "id": "2ecd72a5-14c6-471a-976d-cf4a7cd831d2",
   "metadata": {},
   "source": [
    " Userdefined funtion : prime(),stringreverse()"
   ]
  },
  {
   "cell_type": "code",
   "execution_count": 19,
   "id": "fc818893-eb5a-4ed1-ac2f-664a75a8b13d",
   "metadata": {},
   "outputs": [
    {
     "name": "stdout",
     "output_type": "stream",
     "text": [
      "0.5290826861200238\n"
     ]
    }
   ],
   "source": [
    "# predefined funtions\n",
    "from math import sin\n",
    "x = sin(34)\n",
    "print(x)"
   ]
  },
  {
   "cell_type": "code",
   "execution_count": 21,
   "id": "53febb25-0cb9-43b2-ac30-260e53e8e2b9",
   "metadata": {},
   "outputs": [
    {
     "name": "stdout",
     "output_type": "stream",
     "text": [
      "0.26664293235993725\n"
     ]
    }
   ],
   "source": [
    "from math import*\n",
    "x = cos(39)\n",
    "print(x)"
   ]
  },
  {
   "cell_type": "code",
   "execution_count": 23,
   "id": "2b87a1c1-d12d-47e2-a0a7-89ed1391563a",
   "metadata": {},
   "outputs": [
    {
     "name": "stdout",
     "output_type": "stream",
     "text": [
      "4.0\n"
     ]
    }
   ],
   "source": [
    "from math import*\n",
    "x = sqrt(16)\n",
    "print(x)"
   ]
  },
  {
   "cell_type": "code",
   "execution_count": 25,
   "id": "75e868e4-c018-4e1c-82db-ff4687c49cf6",
   "metadata": {},
   "outputs": [
    {
     "name": "stdout",
     "output_type": "stream",
     "text": [
      "32.0\n"
     ]
    }
   ],
   "source": [
    "from math import*\n",
    "x = pow(2,5)\n",
    "print(x)"
   ]
  },
  {
   "cell_type": "code",
   "execution_count": 39,
   "id": "d291456b-4b94-4fd8-b5f6-201ee7861230",
   "metadata": {},
   "outputs": [
    {
     "name": "stdin",
     "output_type": "stream",
     "text": [
      " 5\n"
     ]
    },
    {
     "name": "stdout",
     "output_type": "stream",
     "text": [
      "120\n"
     ]
    }
   ],
   "source": [
    "def fun(n):\n",
    "    if n == 0:\n",
    "        return 1\n",
    "    else:\n",
    "        return n*fun(n-1)\n",
    "n = int(input())\n",
    "x=fun(n)\n",
    "print(x)"
   ]
  },
  {
   "cell_type": "code",
   "execution_count": 46,
   "id": "f34087fb-fe58-4039-b839-59989c477c69",
   "metadata": {},
   "outputs": [
    {
     "name": "stdout",
     "output_type": "stream",
     "text": [
      "16807\n"
     ]
    }
   ],
   "source": [
    "def function(a,b):\n",
    " if(a<b):\n",
    "     return funtion(b,a)\n",
    " elif(b!=0):\n",
    "     return(a*funtion(a,b-1))\n",
    " else:\n",
    "     return 1\n",
    "x=function(7,5)\n",
    "print(x)\n",
    " "
   ]
  },
  {
   "cell_type": "code",
   "execution_count": 48,
   "id": "fd218ee5-2668-46b4-be66-6adb08d8381f",
   "metadata": {},
   "outputs": [
    {
     "name": "stdout",
     "output_type": "stream",
     "text": [
      "10\n"
     ]
    }
   ],
   "source": [
    "def function(a,b):\n",
    "    if((3+b)>(b-3) and (a+b)<(b+a)):\n",
    "        a=(b+3)+a\n",
    "        b=2+b+b\n",
    "        a=b+2\n",
    "        return 1 + function(a,b+a)\n",
    "    else:\n",
    "        return a\n",
    "x=function(10,20)\n",
    "print(x)"
   ]
  },
  {
   "cell_type": "code",
   "execution_count": 3,
   "id": "bca6cc93-7b89-45be-814d-f6382119d64b",
   "metadata": {},
   "outputs": [
    {
     "name": "stdout",
     "output_type": "stream",
     "text": [
      "10\n"
     ]
    }
   ],
   "source": [
    "def fun(a,b):\n",
    "    if b==0:\n",
    "        return a\n",
    "    else:\n",
    "        return fun(b,a%b)\n",
    "x=fun(20,30)\n",
    "print(x)\n"
   ]
  },
  {
   "cell_type": "code",
   "execution_count": null,
   "id": "bc851abe-18d0-4d31-a892-c86464385ee8",
   "metadata": {},
   "outputs": [],
   "source": []
  }
 ],
 "metadata": {
  "kernelspec": {
   "display_name": "Python [conda env:base] *",
   "language": "python",
   "name": "conda-base-py"
  },
  "language_info": {
   "codemirror_mode": {
    "name": "ipython",
    "version": 3
   },
   "file_extension": ".py",
   "mimetype": "text/x-python",
   "name": "python",
   "nbconvert_exporter": "python",
   "pygments_lexer": "ipython3",
   "version": "3.12.7"
  }
 },
 "nbformat": 4,
 "nbformat_minor": 5
}
